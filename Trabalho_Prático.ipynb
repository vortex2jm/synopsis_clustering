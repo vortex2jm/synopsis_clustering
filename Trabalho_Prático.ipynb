{
 "cells": [
  {
   "cell_type": "markdown",
   "metadata": {},
   "source": [
    "## Bibliotecas"
   ]
  },
  {
   "cell_type": "code",
   "execution_count": 18,
   "metadata": {},
   "outputs": [
    {
     "name": "stderr",
     "output_type": "stream",
     "text": [
      "[nltk_data] Downloading package punkt_tab to /home/bruno/nltk_data...\n",
      "[nltk_data]   Package punkt_tab is already up-to-date!\n",
      "[nltk_data] Downloading package stopwords to /home/bruno/nltk_data...\n",
      "[nltk_data]   Package stopwords is already up-to-date!\n"
     ]
    }
   ],
   "source": [
    "#importando bibliotecas\n",
    "import numpy as np\n",
    "import pandas as pd \n",
    "import nltk\n",
    "nltk.download('punkt_tab')\n",
    "from nltk import sent_tokenize, word_tokenize\n",
    "import string\n",
    "import unidecode\n",
    "from nltk.corpus import stopwords\n",
    "nltk.download('stopwords')\n",
    "from nltk.stem.porter import PorterStemmer\n",
    "\n",
    "from datetime import datetime"
   ]
  },
  {
   "cell_type": "markdown",
   "metadata": {},
   "source": [
    "## Carregando Dataset"
   ]
  },
  {
   "cell_type": "code",
   "execution_count": 19,
   "metadata": {},
   "outputs": [
    {
     "data": {
      "text/html": [
       "<div>\n",
       "<style scoped>\n",
       "    .dataframe tbody tr th:only-of-type {\n",
       "        vertical-align: middle;\n",
       "    }\n",
       "\n",
       "    .dataframe tbody tr th {\n",
       "        vertical-align: top;\n",
       "    }\n",
       "\n",
       "    .dataframe thead th {\n",
       "        text-align: right;\n",
       "    }\n",
       "</style>\n",
       "<table border=\"1\" class=\"dataframe\">\n",
       "  <thead>\n",
       "    <tr style=\"text-align: right;\">\n",
       "      <th></th>\n",
       "      <th>genres</th>\n",
       "      <th>averageRating</th>\n",
       "      <th>numVotes</th>\n",
       "      <th>sinopse</th>\n",
       "      <th>primaryTitle</th>\n",
       "      <th>startYear</th>\n",
       "      <th>runtimeMinutes</th>\n",
       "      <th>actors_names</th>\n",
       "      <th>directors_names</th>\n",
       "    </tr>\n",
       "  </thead>\n",
       "  <tbody>\n",
       "    <tr>\n",
       "      <th>0</th>\n",
       "      <td>Family</td>\n",
       "      <td>7.1</td>\n",
       "      <td>387992</td>\n",
       "      <td>When two kids find and play a magical board ga...</td>\n",
       "      <td>Jumanji</td>\n",
       "      <td>1995</td>\n",
       "      <td>104</td>\n",
       "      <td>['Robin Williams' 'Jonathan Hyde' 'Jonathan Hy...</td>\n",
       "      <td>['Joe Johnston']</td>\n",
       "    </tr>\n",
       "    <tr>\n",
       "      <th>1</th>\n",
       "      <td>Romance</td>\n",
       "      <td>6.7</td>\n",
       "      <td>30265</td>\n",
       "      <td>John and Max resolve to save their beloved bai...</td>\n",
       "      <td>Grumpier Old Men</td>\n",
       "      <td>1995</td>\n",
       "      <td>101</td>\n",
       "      <td>['Walter Matthau' 'Jack Lemmon' 'Burgess Mered...</td>\n",
       "      <td>['Howard Deutch']</td>\n",
       "    </tr>\n",
       "    <tr>\n",
       "      <th>2</th>\n",
       "      <td>Romance</td>\n",
       "      <td>6.0</td>\n",
       "      <td>12585</td>\n",
       "      <td>Based on Terry McMillan's novel, this film fol...</td>\n",
       "      <td>Waiting to Exhale</td>\n",
       "      <td>1995</td>\n",
       "      <td>124</td>\n",
       "      <td>['Gregory Hines' 'Dennis Haysbert' 'Mykelti Wi...</td>\n",
       "      <td>['Forest Whitaker']</td>\n",
       "    </tr>\n",
       "    <tr>\n",
       "      <th>3</th>\n",
       "      <td>Romance,Family</td>\n",
       "      <td>6.1</td>\n",
       "      <td>42555</td>\n",
       "      <td>George Banks must deal not only with his daugh...</td>\n",
       "      <td>Father of the Bride Part II</td>\n",
       "      <td>1995</td>\n",
       "      <td>106</td>\n",
       "      <td>['Steve Martin' 'Martin Short' 'George Newbern...</td>\n",
       "      <td>['Charles Shyer']</td>\n",
       "    </tr>\n",
       "    <tr>\n",
       "      <th>4</th>\n",
       "      <td>Crime,Action</td>\n",
       "      <td>8.3</td>\n",
       "      <td>738636</td>\n",
       "      <td>A group of high-end professional thieves start...</td>\n",
       "      <td>Heat</td>\n",
       "      <td>1995</td>\n",
       "      <td>170</td>\n",
       "      <td>['Al Pacino' 'Robert De Niro' 'Val Kilmer' 'Jo...</td>\n",
       "      <td>['Michael Mann']</td>\n",
       "    </tr>\n",
       "  </tbody>\n",
       "</table>\n",
       "</div>"
      ],
      "text/plain": [
       "           genres  averageRating  numVotes  \\\n",
       "0          Family            7.1    387992   \n",
       "1         Romance            6.7     30265   \n",
       "2         Romance            6.0     12585   \n",
       "3  Romance,Family            6.1     42555   \n",
       "4    Crime,Action            8.3    738636   \n",
       "\n",
       "                                             sinopse  \\\n",
       "0  When two kids find and play a magical board ga...   \n",
       "1  John and Max resolve to save their beloved bai...   \n",
       "2  Based on Terry McMillan's novel, this film fol...   \n",
       "3  George Banks must deal not only with his daugh...   \n",
       "4  A group of high-end professional thieves start...   \n",
       "\n",
       "                  primaryTitle  startYear runtimeMinutes  \\\n",
       "0                      Jumanji       1995            104   \n",
       "1             Grumpier Old Men       1995            101   \n",
       "2            Waiting to Exhale       1995            124   \n",
       "3  Father of the Bride Part II       1995            106   \n",
       "4                         Heat       1995            170   \n",
       "\n",
       "                                        actors_names      directors_names  \n",
       "0  ['Robin Williams' 'Jonathan Hyde' 'Jonathan Hy...     ['Joe Johnston']  \n",
       "1  ['Walter Matthau' 'Jack Lemmon' 'Burgess Mered...    ['Howard Deutch']  \n",
       "2  ['Gregory Hines' 'Dennis Haysbert' 'Mykelti Wi...  ['Forest Whitaker']  \n",
       "3  ['Steve Martin' 'Martin Short' 'George Newbern...    ['Charles Shyer']  \n",
       "4  ['Al Pacino' 'Robert De Niro' 'Val Kilmer' 'Jo...     ['Michael Mann']  "
      ]
     },
     "execution_count": 19,
     "metadata": {},
     "output_type": "execute_result"
    }
   ],
   "source": [
    "#Abrindo arquivos\n",
    "df = pd.read_csv(\"filmes.csv\")\n",
    "df.head()"
   ]
  },
  {
   "cell_type": "code",
   "execution_count": 20,
   "metadata": {},
   "outputs": [
    {
     "name": "stdout",
     "output_type": "stream",
     "text": [
      "<class 'pandas.core.frame.DataFrame'>\n",
      "RangeIndex: 30358 entries, 0 to 30357\n",
      "Data columns (total 9 columns):\n",
      " #   Column           Non-Null Count  Dtype  \n",
      "---  ------           --------------  -----  \n",
      " 0   genres           30358 non-null  object \n",
      " 1   averageRating    30358 non-null  float64\n",
      " 2   numVotes         30358 non-null  int64  \n",
      " 3   sinopse          30358 non-null  object \n",
      " 4   primaryTitle     30358 non-null  object \n",
      " 5   startYear        30358 non-null  int64  \n",
      " 6   runtimeMinutes   30358 non-null  object \n",
      " 7   actors_names     30358 non-null  object \n",
      " 8   directors_names  30358 non-null  object \n",
      "dtypes: float64(1), int64(2), object(6)\n",
      "memory usage: 2.1+ MB\n"
     ]
    }
   ],
   "source": [
    "#Informaçoes dataset\n",
    "df.info()"
   ]
  },
  {
   "cell_type": "code",
   "execution_count": 21,
   "metadata": {},
   "outputs": [
    {
     "data": {
      "text/plain": [
       "Index(['genres', 'averageRating', 'numVotes', 'sinopse', 'primaryTitle',\n",
       "       'startYear', 'runtimeMinutes', 'actors_names', 'directors_names'],\n",
       "      dtype='object')"
      ]
     },
     "execution_count": 21,
     "metadata": {},
     "output_type": "execute_result"
    }
   ],
   "source": [
    "#Verificando as features\n",
    "df.columns"
   ]
  },
  {
   "cell_type": "code",
   "execution_count": 22,
   "metadata": {},
   "outputs": [
    {
     "data": {
      "text/plain": [
       "0    When two kids find and play a magical board ga...\n",
       "1    John and Max resolve to save their beloved bai...\n",
       "2    Based on Terry McMillan's novel, this film fol...\n",
       "3    George Banks must deal not only with his daugh...\n",
       "4    A group of high-end professional thieves start...\n",
       "5    An ugly duckling having undergone a remarkable...\n",
       "6    A former fireman takes on a group of terrorist...\n",
       "7    When a powerful secret defense system is stole...\n",
       "8    A widowed U.S. President running for reelectio...\n",
       "9    Mel Brooks' parody of the classic vampire stor...\n",
       "Name: sinopse, dtype: object"
      ]
     },
     "execution_count": 22,
     "metadata": {},
     "output_type": "execute_result"
    }
   ],
   "source": [
    "#Feature a ser analisada (sinopse) \n",
    "data_features = df['sinopse'] #Tratando com Serie de string\n",
    "data_features.head(10)"
   ]
  },
  {
   "cell_type": "markdown",
   "metadata": {},
   "source": [
    "## Limpeza e pré-processamento"
   ]
  },
  {
   "cell_type": "markdown",
   "metadata": {},
   "source": [
    "### Dividindo o texto em sentenças e palavras"
   ]
  },
  {
   "cell_type": "code",
   "execution_count": 23,
   "metadata": {},
   "outputs": [],
   "source": [
    "# Sentenças\n",
    "sentences = data_features.apply(sent_tokenize)\n",
    "#sentences"
   ]
  },
  {
   "cell_type": "code",
   "execution_count": 24,
   "metadata": {},
   "outputs": [],
   "source": [
    "# Palavras\n",
    "tokens = data_features.apply(word_tokenize)\n",
    "#tokens"
   ]
  },
  {
   "cell_type": "markdown",
   "metadata": {},
   "source": [
    "### Converter o texto para letras minúsculas"
   ]
  },
  {
   "cell_type": "code",
   "execution_count": 25,
   "metadata": {},
   "outputs": [],
   "source": [
    "for i in range(len(tokens)):\n",
    "   tokens[i] = [x.lower() for x in tokens[i]]\n",
    "#tokens"
   ]
  },
  {
   "cell_type": "markdown",
   "metadata": {},
   "source": [
    "### Removendo símbolos de pontuação de cada Token"
   ]
  },
  {
   "cell_type": "code",
   "execution_count": 26,
   "metadata": {},
   "outputs": [],
   "source": [
    "table = str.maketrans('', '', string.punctuation)\n",
    "\n",
    "for i in range(len(tokens)):\n",
    "   tokens[i] = [x.translate(table) for x in tokens[i]]\n",
    "#tokens"
   ]
  },
  {
   "cell_type": "markdown",
   "metadata": {},
   "source": [
    "### \"Convertendo\" caracteres especiais"
   ]
  },
  {
   "cell_type": "code",
   "execution_count": 27,
   "metadata": {},
   "outputs": [],
   "source": [
    "for i in range(len(tokens)):\n",
    "  tokens[i] = [unidecode.unidecode(x) for x in tokens[i]]\n",
    "\n",
    "#tokens\n"
   ]
  },
  {
   "cell_type": "markdown",
   "metadata": {},
   "source": [
    "### Removendo o que não são palavras"
   ]
  },
  {
   "cell_type": "markdown",
   "metadata": {},
   "source": [
    "Talvez seja necessário usar alguns tokens númericos, mas tenho que olhar depois"
   ]
  },
  {
   "cell_type": "code",
   "execution_count": 28,
   "metadata": {},
   "outputs": [],
   "source": [
    "words = list()\n",
    "for i in range(len(tokens)):\n",
    "  words.append([x for x in tokens[i] if x.isalpha()])\n",
    "#words"
   ]
  },
  {
   "cell_type": "markdown",
   "metadata": {},
   "source": [
    "### Removendo stop words"
   ]
  },
  {
   "cell_type": "markdown",
   "metadata": {},
   "source": [
    "São palavras que são consideradas irrelevantes para os resultados de uma busca"
   ]
  },
  {
   "cell_type": "code",
   "execution_count": 29,
   "metadata": {},
   "outputs": [],
   "source": [
    "stop_words = set(stopwords.words('english'))\n",
    "# stop_words #dicionário de stop words"
   ]
  },
  {
   "cell_type": "code",
   "execution_count": 30,
   "metadata": {},
   "outputs": [],
   "source": [
    "#lista words sem as stop words\n",
    "for i in range(len(words)):\n",
    "  words[i] = [word for word in words[i] if not word in stop_words]\n",
    "#words"
   ]
  },
  {
   "cell_type": "markdown",
   "metadata": {},
   "source": [
    "### Stemming"
   ]
  },
  {
   "cell_type": "markdown",
   "metadata": {},
   "source": [
    " Stemming é uma técnica usada para reduzir uma palavra flexionada ao seu radical"
   ]
  },
  {
   "cell_type": "code",
   "execution_count": 31,
   "metadata": {},
   "outputs": [],
   "source": [
    "porter = PorterStemmer()\n",
    "stemmed = list()\n",
    "for i in range(len(words)):\n",
    "  stemmed.append([porter.stem(word) for word in words[i]])\n",
    "res = list(zip(words, stemmed)) #comparando as listas para ver radical e palavra flexionada\n",
    "#res\n"
   ]
  }
 ],
 "metadata": {
  "kernelspec": {
   "display_name": "usr",
   "language": "python",
   "name": "python3"
  },
  "language_info": {
   "codemirror_mode": {
    "name": "ipython",
    "version": 3
   },
   "file_extension": ".py",
   "mimetype": "text/x-python",
   "name": "python",
   "nbconvert_exporter": "python",
   "pygments_lexer": "ipython3",
   "version": "3.10.12"
  }
 },
 "nbformat": 4,
 "nbformat_minor": 2
}
